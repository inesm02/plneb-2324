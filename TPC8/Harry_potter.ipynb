{
 "cells": [
  {
   "cell_type": "code",
   "execution_count": 38,
   "id": "initial_id",
   "metadata": {
    "collapsed": true,
    "ExecuteTime": {
     "end_time": "2024-05-05T17:30:21.277046400Z",
     "start_time": "2024-05-05T17:30:21.120332600Z"
    }
   },
   "outputs": [],
   "source": [
    "from gensim.models import Word2Vec \n",
    "from gensim.utils import tokenize\n",
    "\n",
    "f1 = open(\"Harry_Potter_Camara_Secreta-br.txt\",encoding=\"utf-8\")\n",
    "f2 = open(\"Harry_Potter_e_A_Pedra_Filosofal.txt\",encoding=\"utf-8\")\n",
    "harry_text_CamSecreta = f1.read()\n",
    "harry_text_PFilosofal = f2.read()\n",
    "\n",
    "linhas_CamSecreta = harry_text_CamSecreta.split(\"\\n\")\n",
    "\n",
    "tokens_CamSecreta = []\n",
    "for linha in linhas_CamSecreta:\n",
    "    linha = list(tokenize(linha, lower=True))\n",
    "    tokens_CamSecreta.append(linha)\n",
    "    \n",
    "linhas_PFilosofal = harry_text_PFilosofal.split(\"\\n\")\n",
    "\n",
    "tokens_PFilosofal = []\n",
    "for linha in linhas_PFilosofal:\n",
    "    linha = list(tokenize(linha, lower=True))\n",
    "    tokens_PFilosofal.append(linha)"
   ]
  },
  {
   "cell_type": "markdown",
   "source": [
    "# Modelos 1"
   ],
   "metadata": {
    "collapsed": false
   },
   "id": "40d0b23ea08f62a9"
  },
  {
   "cell_type": "code",
   "execution_count": 39,
   "outputs": [],
   "source": [
    "model_CamSecreta = Word2Vec(tokens_CamSecreta, vector_size= 300, window= 5, min_count= 1, epochs= 20)\n",
    "model_PFilosofal = Word2Vec(tokens_PFilosofal, vector_size= 300, window= 5, min_count= 1, epochs= 20)"
   ],
   "metadata": {
    "collapsed": false,
    "ExecuteTime": {
     "end_time": "2024-05-05T17:30:23.670765300Z",
     "start_time": "2024-05-05T17:30:21.337112700Z"
    }
   },
   "id": "4ad2f5b2b77a4933"
  },
  {
   "cell_type": "markdown",
   "source": [
    "# Most Similar"
   ],
   "metadata": {
    "collapsed": false
   },
   "id": "2243925661c4b9fd"
  },
  {
   "cell_type": "code",
   "execution_count": 40,
   "outputs": [
    {
     "name": "stdout",
     "output_type": "stream",
     "text": [
      "------------Camara Secreta------------\n",
      "[('rony', 0.9437215924263), ('mione', 0.9259917140007019), ('hermione', 0.9147190451622009), ('draco', 0.9049713015556335), ('alerta', 0.9040642976760864), ('bispo', 0.9030514359474182), ('afastando', 0.8986929655075073), ('riddle', 0.891360342502594), ('exasperada', 0.8900994658470154), ('acordem', 0.8886711001396179)]\n",
      "\n",
      "------------Pedra Filosofal------------\n",
      "[('hagrid', 0.9511451721191406), ('neville', 0.9474487900733948), ('rony', 0.936194658279419), ('hermione', 0.935167670249939), ('aproximando', 0.9279885292053223), ('untuosa', 0.9266242384910583), ('irritação', 0.9159594178199768), ('jogue', 0.9155094027519226), ('sonolento', 0.9104434847831726), ('mandando', 0.9093925356864929)]\n"
     ]
    }
   ],
   "source": [
    "print(\"------------Camara Secreta------------\")\n",
    "print(model_CamSecreta.wv.most_similar(\"harry\"))\n",
    "\n",
    "print(\"\\n------------Pedra Filosofal------------\")\n",
    "print(model_PFilosofal.wv.most_similar(\"harry\"))"
   ],
   "metadata": {
    "collapsed": false,
    "ExecuteTime": {
     "end_time": "2024-05-05T17:30:23.731005900Z",
     "start_time": "2024-05-05T17:30:23.672734Z"
    }
   },
   "id": "b015b464bace170e"
  },
  {
   "cell_type": "markdown",
   "source": [
    "# Similarity"
   ],
   "metadata": {
    "collapsed": false
   },
   "id": "4705b83dc52dc5ba"
  },
  {
   "cell_type": "code",
   "execution_count": 41,
   "outputs": [
    {
     "name": "stdout",
     "output_type": "stream",
     "text": [
      "------------Camara Secreta------------\n",
      "0.60202\n",
      "0.91471905\n",
      "0.83910817\n",
      "0.4788546\n",
      "\n",
      "------------Pedra Filosofal------------\n",
      "0.7518021\n",
      "0.9351676\n",
      "0.7709659\n",
      "0.7288341\n"
     ]
    }
   ],
   "source": [
    "print(\"------------Camara Secreta------------\")\n",
    "print(model_CamSecreta.wv.similarity(\"harry\",\"voldemort\"))\n",
    "print(model_CamSecreta.wv.similarity(\"harry\",\"hermione\"))\n",
    "print(model_CamSecreta.wv.similarity(\"harry\",\"dumbledore\"))\n",
    "print(model_CamSecreta.wv.similarity(\"harry\",\"óculos\"))\n",
    "\n",
    "print(\"\\n------------Pedra Filosofal------------\")\n",
    "print(model_PFilosofal.wv.similarity(\"harry\",\"voldemort\"))\n",
    "print(model_PFilosofal.wv.similarity(\"harry\",\"hermione\"))\n",
    "print(model_PFilosofal.wv.similarity(\"harry\",\"dumbledore\"))\n",
    "print(model_PFilosofal.wv.similarity(\"harry\",\"óculos\"))"
   ],
   "metadata": {
    "collapsed": false,
    "ExecuteTime": {
     "end_time": "2024-05-05T17:30:23.732006500Z",
     "start_time": "2024-05-05T17:30:23.708177Z"
    }
   },
   "id": "65912d32de86def9"
  },
  {
   "cell_type": "markdown",
   "source": [
    "# Doesn't Match"
   ],
   "metadata": {
    "collapsed": false
   },
   "id": "40b3ce4f7c658bc3"
  },
  {
   "cell_type": "code",
   "execution_count": 42,
   "outputs": [
    {
     "name": "stdout",
     "output_type": "stream",
     "text": [
      "------------Camara Secreta------------\n",
      "voldemort\n",
      "grifinória\n",
      "dumbledore\n",
      "\n",
      "------------Pedra Filosofal------------\n",
      "voldemort\n",
      "grifinória\n",
      "dumbledore\n"
     ]
    }
   ],
   "source": [
    "print(\"------------Camara Secreta------------\")\n",
    "print(model_CamSecreta.wv.doesnt_match([\"harry\",\"hermione\",\"ron\",\"voldemort\"]))\n",
    "print(model_CamSecreta.wv.doesnt_match([\"hermione\",\"harry\",\"grifinória\",\"lufa-lufa\"]))\n",
    "print(model_CamSecreta.wv.doesnt_match([\"dumbledore\",\"mcgonagall\",\"sprout\",\"granger\"]))\n",
    "\n",
    "print(\"\\n------------Pedra Filosofal------------\")\n",
    "print(model_PFilosofal.wv.doesnt_match([\"harry\",\"hermione\",\"ron\",\"voldemort\"]))\n",
    "print(model_PFilosofal.wv.doesnt_match([\"hermione\",\"harry\",\"grifinória\",\"lufa-lufa\"]))\n",
    "print(model_PFilosofal.wv.doesnt_match([\"dumbledore\",\"mcgonagall\",\"sprout\",\"granger\"]))"
   ],
   "metadata": {
    "collapsed": false,
    "ExecuteTime": {
     "end_time": "2024-05-05T17:30:23.736007800Z",
     "start_time": "2024-05-05T17:30:23.721475100Z"
    }
   },
   "id": "bd7cdd60c9e04cc0"
  },
  {
   "cell_type": "markdown",
   "source": [
    "# Most Similar (positive and negative)"
   ],
   "metadata": {
    "collapsed": false
   },
   "id": "7cf9afb0fd4d9040"
  },
  {
   "cell_type": "code",
   "execution_count": 43,
   "outputs": [
    {
     "name": "stdout",
     "output_type": "stream",
     "text": [
      "------------Camara Secreta------------\n",
      "[('lobisomem', 0.9473737478256226), ('sensação', 0.942983090877533), ('forma', 0.9425041079521179), ('bath', 0.9405773282051086), ('barrica', 0.932982325553894), ('precisávamos', 0.932154655456543), ('espécie', 0.9301900267601013), ('solta', 0.9276443719863892), ('poção', 0.92605060338974), ('grande', 0.9233207106590271)]\n",
      "\n",
      "------------Pedra Filosofal------------\n",
      "[('vitória', 0.9750733971595764), ('oportunidade', 0.9747501611709595), ('precisavam', 0.9737192392349243), ('cantar', 0.9732109904289246), ('letra', 0.9722174406051636), ('horrível', 0.9721810817718506), ('previ', 0.9718706607818604), ('ministro', 0.9717409610748291), ('aberto', 0.9715169072151184), ('seleção', 0.971380352973938)]\n"
     ]
    }
   ],
   "source": [
    "print(\"------------Camara Secreta------------\")\n",
    "result_CamSecreta = model_CamSecreta.wv.most_similar(positive=['cicatriz', 'bruxo'], negative=['trouxa'])\n",
    "print(result_CamSecreta)\n",
    "\n",
    "print(\"\\n------------Pedra Filosofal------------\")\n",
    "result_PFilosofal = model_PFilosofal.wv.most_similar(positive=['cicatriz', 'bruxo'], negative=['trouxa'])\n",
    "print(result_PFilosofal)"
   ],
   "metadata": {
    "collapsed": false,
    "ExecuteTime": {
     "end_time": "2024-05-05T17:30:23.749808600Z",
     "start_time": "2024-05-05T17:30:23.736007800Z"
    }
   },
   "id": "8ec47e451ef8965c"
  },
  {
   "cell_type": "markdown",
   "source": [
    "# Analogia"
   ],
   "metadata": {
    "collapsed": false
   },
   "id": "ad54b3a07c8ba745"
  },
  {
   "cell_type": "code",
   "execution_count": 44,
   "outputs": [],
   "source": [
    "def analogy(x1, y1, x2, model):\n",
    "    result = model.wv.most_similar(positive=[x2, y1], negative=[x1])\n",
    "    return result[0][0]"
   ],
   "metadata": {
    "collapsed": false,
    "ExecuteTime": {
     "end_time": "2024-05-05T17:30:23.823180900Z",
     "start_time": "2024-05-05T17:30:23.751808200Z"
    }
   },
   "id": "c82ca82eb1bd27eb"
  },
  {
   "cell_type": "code",
   "execution_count": 45,
   "outputs": [
    {
     "name": "stdout",
     "output_type": "stream",
     "text": [
      "------------Camara Secreta------------\n",
      "adoraria\n",
      "\n",
      "------------Pedra Filosofal------------\n",
      "tremeu\n"
     ]
    }
   ],
   "source": [
    "print(\"------------Camara Secreta------------\")\n",
    "print(analogy('cobra', 'riddle', 'lorde', model_CamSecreta))\n",
    "\n",
    "print(\"\\n------------Pedra Filosofal------------\")\n",
    "print(analogy('varinha', 'aula', 'mcgonagall', model_PFilosofal))"
   ],
   "metadata": {
    "collapsed": false,
    "ExecuteTime": {
     "end_time": "2024-05-05T17:30:23.824289600Z",
     "start_time": "2024-05-05T17:30:23.767867800Z"
    }
   },
   "id": "2381aa13fe336439"
  },
  {
   "cell_type": "markdown",
   "source": [
    "# Modelos 2"
   ],
   "metadata": {
    "collapsed": false
   },
   "id": "6ff0cb18f02c504f"
  },
  {
   "cell_type": "code",
   "execution_count": 46,
   "outputs": [],
   "source": [
    "# AUMENTAR OS PARÂMETROS\n",
    "model_CamSecreta = Word2Vec(tokens_CamSecreta, vector_size= 400, window= 10, min_count= 3, epochs= 30)\n",
    "model_PFilosofal = Word2Vec(tokens_PFilosofal, vector_size= 400, window= 10, min_count= 3, epochs= 30)"
   ],
   "metadata": {
    "collapsed": false,
    "ExecuteTime": {
     "end_time": "2024-05-05T17:30:26.814609300Z",
     "start_time": "2024-05-05T17:30:23.781980400Z"
    }
   },
   "id": "933439a02497a52e"
  },
  {
   "cell_type": "markdown",
   "source": [
    "# Most Similar"
   ],
   "metadata": {
    "collapsed": false
   },
   "id": "68edd4a958f5e8ca"
  },
  {
   "cell_type": "code",
   "execution_count": 47,
   "outputs": [
    {
     "name": "stdout",
     "output_type": "stream",
     "text": [
      "------------Camara Secreta------------\n",
      "[('ele', 0.6301143765449524), ('apontando', 0.5913753509521484), ('mione', 0.5693162679672241), ('repente', 0.5683048963546753), ('furioso', 0.551323652267456), ('esguelha', 0.5417391657829285), ('erguendo', 0.5330979228019714), ('depressa', 0.5187279582023621), ('ernie', 0.5133316516876221), ('ligeiro', 0.5128133893013)]\n",
      "\n",
      "------------Pedra Filosofal------------\n",
      "[('neville', 0.7547523975372314), ('rony', 0.7313957214355469), ('atenção', 0.7004107236862183), ('ela', 0.6843348145484924), ('boca', 0.6693756580352783), ('hermione', 0.665280282497406), ('força', 0.6451154351234436), ('malfoy', 0.6441006660461426), ('excitação', 0.6288722157478333), ('sacudiu', 0.6252979040145874)]\n"
     ]
    }
   ],
   "source": [
    "print(\"------------Camara Secreta------------\")\n",
    "print(model_CamSecreta.wv.most_similar(\"harry\"))\n",
    "\n",
    "print(\"\\n------------Pedra Filosofal------------\")\n",
    "print(model_PFilosofal.wv.most_similar(\"harry\"))"
   ],
   "metadata": {
    "collapsed": false,
    "ExecuteTime": {
     "end_time": "2024-05-05T17:30:26.832206800Z",
     "start_time": "2024-05-05T17:30:26.816575Z"
    }
   },
   "id": "e6f97023be0a8005"
  },
  {
   "cell_type": "markdown",
   "source": [
    "# Similarity"
   ],
   "metadata": {
    "collapsed": false
   },
   "id": "4c7400dd492e2c3b"
  },
  {
   "cell_type": "code",
   "execution_count": 48,
   "outputs": [
    {
     "name": "stdout",
     "output_type": "stream",
     "text": [
      "------------Camara Secreta------------\n",
      "-0.09700408\n",
      "0.4426746\n",
      "0.26374573\n",
      "0.135303\n",
      "\n",
      "------------Pedra Filosofal------------\n",
      "0.18955909\n",
      "0.66528034\n",
      "0.3411591\n",
      "0.33368984\n"
     ]
    }
   ],
   "source": [
    "print(\"------------Camara Secreta------------\")\n",
    "print(model_CamSecreta.wv.similarity(\"harry\",\"voldemort\"))\n",
    "print(model_CamSecreta.wv.similarity(\"harry\",\"hermione\"))\n",
    "print(model_CamSecreta.wv.similarity(\"harry\",\"dumbledore\"))\n",
    "print(model_CamSecreta.wv.similarity(\"harry\",\"óculos\"))\n",
    "\n",
    "print(\"\\n------------Pedra Filosofal------------\")\n",
    "print(model_PFilosofal.wv.similarity(\"harry\",\"voldemort\"))\n",
    "print(model_PFilosofal.wv.similarity(\"harry\",\"hermione\"))\n",
    "print(model_PFilosofal.wv.similarity(\"harry\",\"dumbledore\"))\n",
    "print(model_PFilosofal.wv.similarity(\"harry\",\"óculos\"))"
   ],
   "metadata": {
    "collapsed": false,
    "ExecuteTime": {
     "end_time": "2024-05-05T17:30:26.904118100Z",
     "start_time": "2024-05-05T17:30:26.833209700Z"
    }
   },
   "id": "4c594efa9fad6c10"
  },
  {
   "cell_type": "markdown",
   "source": [
    "# Doesn't Match"
   ],
   "metadata": {
    "collapsed": false
   },
   "id": "76894efe3892cf86"
  },
  {
   "cell_type": "code",
   "execution_count": 49,
   "outputs": [
    {
     "name": "stdout",
     "output_type": "stream",
     "text": [
      "------------Camara Secreta------------\n",
      "voldemort\n",
      "grifinória\n",
      "granger\n",
      "\n",
      "------------Pedra Filosofal------------\n",
      "voldemort\n",
      "grifinória\n",
      "dumbledore\n"
     ]
    }
   ],
   "source": [
    "print(\"------------Camara Secreta------------\")\n",
    "print(model_CamSecreta.wv.doesnt_match([\"harry\",\"hermione\",\"ron\",\"voldemort\"]))\n",
    "print(model_CamSecreta.wv.doesnt_match([\"hermione\",\"harry\",\"grifinória\",\"lufa-lufa\"]))\n",
    "print(model_CamSecreta.wv.doesnt_match([\"dumbledore\",\"mcgonagall\",\"sprout\",\"granger\"]))\n",
    "\n",
    "print(\"\\n------------Pedra Filosofal------------\")\n",
    "print(model_PFilosofal.wv.doesnt_match([\"harry\",\"hermione\",\"ron\",\"voldemort\"]))\n",
    "print(model_PFilosofal.wv.doesnt_match([\"hermione\",\"harry\",\"grifinória\",\"lufa-lufa\"]))\n",
    "print(model_PFilosofal.wv.doesnt_match([\"dumbledore\",\"mcgonagall\",\"sprout\",\"granger\"]))"
   ],
   "metadata": {
    "collapsed": false,
    "ExecuteTime": {
     "end_time": "2024-05-05T17:30:26.915506200Z",
     "start_time": "2024-05-05T17:30:26.848299200Z"
    }
   },
   "id": "48c80848b042b771"
  },
  {
   "cell_type": "markdown",
   "source": [
    "# Most Similar (positive and negative)"
   ],
   "metadata": {
    "collapsed": false
   },
   "id": "67ab771bfef3efe1"
  },
  {
   "cell_type": "code",
   "execution_count": 50,
   "outputs": [
    {
     "name": "stdout",
     "output_type": "stream",
     "text": [
      "------------Camara Secreta------------\n",
      "[('menor', 0.6487584710121155), ('forma', 0.6400384902954102), ('pele', 0.6331013441085815), ('raio', 0.6324822306632996), ('número', 0.5860647559165955), ('grandes', 0.5845196843147278), ('poções', 0.5793977379798889), ('tinha', 0.5773226022720337), ('sangue', 0.5768755674362183), ('era', 0.5553352236747742)]\n",
      "\n",
      "------------Pedra Filosofal------------\n",
      "[('alvo', 0.695774257183075), ('notícia', 0.6876356601715088), ('diretor', 0.6873010993003845), ('teve', 0.6843751072883606), ('pessoa', 0.6740989089012146), ('teste', 0.6709784865379333), ('mau', 0.6705008149147034), ('história', 0.6670949459075928), ('horrível', 0.666754424571991), ('importante', 0.666736364364624)]\n"
     ]
    }
   ],
   "source": [
    "print(\"------------Camara Secreta------------\")\n",
    "result_CamSecreta = model_CamSecreta.wv.most_similar(positive=['cicatriz', 'bruxo'], negative=['trouxa'])\n",
    "print(result_CamSecreta)\n",
    "\n",
    "print(\"\\n------------Pedra Filosofal------------\")\n",
    "result_PFilosofal = model_PFilosofal.wv.most_similar(positive=['cicatriz', 'bruxo'], negative=['trouxa'])\n",
    "print(result_PFilosofal)"
   ],
   "metadata": {
    "collapsed": false,
    "ExecuteTime": {
     "end_time": "2024-05-05T17:30:26.916530100Z",
     "start_time": "2024-05-05T17:30:26.864419700Z"
    }
   },
   "id": "6e024214df1a3cbc"
  },
  {
   "cell_type": "markdown",
   "source": [
    "# Analogia"
   ],
   "metadata": {
    "collapsed": false
   },
   "id": "6139bb088b7581e"
  },
  {
   "cell_type": "code",
   "execution_count": 51,
   "outputs": [
    {
     "name": "stdout",
     "output_type": "stream",
     "text": [
      "------------Camara Secreta------------\n",
      "futuro\n",
      "\n",
      "------------Pedra Filosofal------------\n",
      "treinamento\n"
     ]
    }
   ],
   "source": [
    "print(\"------------Camara Secreta------------\")\n",
    "print(analogy('cobra', 'riddle', 'lorde', model_CamSecreta))\n",
    "\n",
    "print(\"\\n------------Pedra Filosofal------------\")\n",
    "print(analogy('varinha', 'aula', 'mcgonagall', model_PFilosofal))"
   ],
   "metadata": {
    "collapsed": false,
    "ExecuteTime": {
     "end_time": "2024-05-05T17:30:26.916530100Z",
     "start_time": "2024-05-05T17:30:26.879037400Z"
    }
   },
   "id": "ad3375015bec5e4"
  },
  {
   "cell_type": "markdown",
   "source": [
    "# Modelos 3"
   ],
   "metadata": {
    "collapsed": false
   },
   "id": "4c6bfb5c3ca246f3"
  },
  {
   "cell_type": "code",
   "execution_count": 52,
   "outputs": [],
   "source": [
    "# AJUSTAR OS PARÂMETROS\n",
    "model_CamSecreta = Word2Vec(tokens_CamSecreta, vector_size= 250, window= 7, min_count= 1, epochs= 30)\n",
    "model_PFilosofal = Word2Vec(tokens_PFilosofal, vector_size= 250, window= 7, min_count= 1, epochs= 30)"
   ],
   "metadata": {
    "collapsed": false,
    "ExecuteTime": {
     "end_time": "2024-05-05T17:30:30.435551800Z",
     "start_time": "2024-05-05T17:30:26.893119600Z"
    }
   },
   "id": "579c6610449aba4d"
  },
  {
   "cell_type": "markdown",
   "source": [
    "# Most Similar"
   ],
   "metadata": {
    "collapsed": false
   },
   "id": "4bd1e5b058875746"
  },
  {
   "cell_type": "code",
   "execution_count": 53,
   "outputs": [
    {
     "name": "stdout",
     "output_type": "stream",
     "text": [
      "------------Camara Secreta------------\n",
      "[('mione', 0.688432514667511), ('ele', 0.6668053865432739), ('inclinando', 0.6443884968757629), ('manhoso', 0.642082154750824), ('hermione', 0.6356533765792847), ('desmaiar', 0.6302226185798645), ('furioso', 0.6148084998130798), ('esguelha', 0.6136258840560913), ('apontando', 0.6116347312927246), ('desembucha', 0.6098690629005432)]\n",
      "\n",
      "------------Pedra Filosofal------------\n",
      "[('neville', 0.8347450494766235), ('rony', 0.7857939600944519), ('hermione', 0.7529045939445496), ('cara', 0.7430344223976135), ('malfoy', 0.740024983882904), ('quirrell', 0.7365805506706238), ('argumentar', 0.7323309779167175), ('repente', 0.7240645289421082), ('finalmente', 0.7216113805770874), ('repôs', 0.721471905708313)]\n"
     ]
    }
   ],
   "source": [
    "print(\"------------Camara Secreta------------\")\n",
    "print(model_CamSecreta.wv.most_similar(\"harry\"))\n",
    "\n",
    "print(\"\\n------------Pedra Filosofal------------\")\n",
    "print(model_PFilosofal.wv.most_similar(\"harry\"))"
   ],
   "metadata": {
    "collapsed": false,
    "ExecuteTime": {
     "end_time": "2024-05-05T17:30:30.495053100Z",
     "start_time": "2024-05-05T17:30:30.438783500Z"
    }
   },
   "id": "fdef4ddd610840c"
  },
  {
   "cell_type": "markdown",
   "source": [
    "# Similarity"
   ],
   "metadata": {
    "collapsed": false
   },
   "id": "56a7da0d2061e17d"
  },
  {
   "cell_type": "code",
   "execution_count": 54,
   "outputs": [
    {
     "name": "stdout",
     "output_type": "stream",
     "text": [
      "------------Camara Secreta------------\n",
      "0.07785711\n",
      "0.6356533\n",
      "0.4427764\n",
      "0.2686525\n",
      "\n",
      "------------Pedra Filosofal------------\n",
      "0.36913562\n",
      "0.75290453\n",
      "0.511813\n",
      "0.37150607\n"
     ]
    }
   ],
   "source": [
    "print(\"------------Camara Secreta------------\")\n",
    "print(model_CamSecreta.wv.similarity(\"harry\",\"voldemort\"))\n",
    "print(model_CamSecreta.wv.similarity(\"harry\",\"hermione\"))\n",
    "print(model_CamSecreta.wv.similarity(\"harry\",\"dumbledore\"))\n",
    "print(model_CamSecreta.wv.similarity(\"harry\",\"óculos\"))\n",
    "\n",
    "print(\"\\n------------Pedra Filosofal------------\")\n",
    "print(model_PFilosofal.wv.similarity(\"harry\",\"voldemort\"))\n",
    "print(model_PFilosofal.wv.similarity(\"harry\",\"hermione\"))\n",
    "print(model_PFilosofal.wv.similarity(\"harry\",\"dumbledore\"))\n",
    "print(model_PFilosofal.wv.similarity(\"harry\",\"óculos\"))"
   ],
   "metadata": {
    "collapsed": false,
    "ExecuteTime": {
     "end_time": "2024-05-05T17:30:30.496183100Z",
     "start_time": "2024-05-05T17:30:30.470395500Z"
    }
   },
   "id": "46fdfd7443fa7745"
  },
  {
   "cell_type": "markdown",
   "source": [
    "# Doesn't Match"
   ],
   "metadata": {
    "collapsed": false
   },
   "id": "6af06ef1526e446b"
  },
  {
   "cell_type": "code",
   "execution_count": 55,
   "outputs": [
    {
     "name": "stdout",
     "output_type": "stream",
     "text": [
      "------------Camara Secreta------------\n",
      "voldemort\n",
      "grifinória\n",
      "dumbledore\n",
      "\n",
      "------------Pedra Filosofal------------\n",
      "voldemort\n",
      "grifinória\n",
      "granger\n"
     ]
    }
   ],
   "source": [
    "print(\"------------Camara Secreta------------\")\n",
    "print(model_CamSecreta.wv.doesnt_match([\"harry\",\"hermione\",\"ron\",\"voldemort\"]))\n",
    "print(model_CamSecreta.wv.doesnt_match([\"hermione\",\"harry\",\"grifinória\",\"lufa-lufa\"]))\n",
    "print(model_CamSecreta.wv.doesnt_match([\"dumbledore\",\"mcgonagall\",\"sprout\",\"granger\"]))\n",
    "\n",
    "print(\"\\n------------Pedra Filosofal------------\")\n",
    "print(model_PFilosofal.wv.doesnt_match([\"harry\",\"hermione\",\"ron\",\"voldemort\"]))\n",
    "print(model_PFilosofal.wv.doesnt_match([\"hermione\",\"harry\",\"grifinória\",\"lufa-lufa\"]))\n",
    "print(model_PFilosofal.wv.doesnt_match([\"dumbledore\",\"mcgonagall\",\"sprout\",\"granger\"]))"
   ],
   "metadata": {
    "collapsed": false,
    "ExecuteTime": {
     "end_time": "2024-05-05T17:30:30.510148600Z",
     "start_time": "2024-05-05T17:30:30.484984300Z"
    }
   },
   "id": "97b1fd7a798f00c3"
  },
  {
   "cell_type": "markdown",
   "source": [
    "# Most Similar (positive and negative)"
   ],
   "metadata": {
    "collapsed": false
   },
   "id": "2467434708e492e3"
  },
  {
   "cell_type": "code",
   "execution_count": 56,
   "outputs": [
    {
     "name": "stdout",
     "output_type": "stream",
     "text": [
      "------------Camara Secreta------------\n",
      "[('raio', 0.7623119354248047), ('forma', 0.7359516620635986), ('concentravam', 0.7323998212814331), ('conserva', 0.6769152283668518), ('cola', 0.6741905808448792), ('opinião', 0.6741823554039001), ('tinha', 0.6709985136985779), ('bath', 0.6643792986869812), ('papelaria', 0.6606313586235046), ('percorreram', 0.659144937992096)]\n",
      "\n",
      "------------Pedra Filosofal------------\n",
      "[('qualidade', 0.8315566778182983), ('tosca', 0.8011993169784546), ('história', 0.796580970287323), ('submetida', 0.7892919778823853), ('viagem', 0.7867472171783447), ('coxa', 0.781816303730011), ('inacreditável', 0.7815885543823242), ('comprimir', 0.7798479795455933), ('saca', 0.7798445224761963), ('queimadura', 0.7787815928459167)]\n"
     ]
    }
   ],
   "source": [
    "print(\"------------Camara Secreta------------\")\n",
    "result_CamSecreta = model_CamSecreta.wv.most_similar(positive=['cicatriz', 'bruxo'], negative=['trouxa'])\n",
    "print(result_CamSecreta)\n",
    "\n",
    "print(\"\\n------------Pedra Filosofal------------\")\n",
    "result_PFilosofal = model_PFilosofal.wv.most_similar(positive=['cicatriz', 'bruxo'], negative=['trouxa'])\n",
    "print(result_PFilosofal)"
   ],
   "metadata": {
    "collapsed": false,
    "ExecuteTime": {
     "end_time": "2024-05-05T17:30:30.520210800Z",
     "start_time": "2024-05-05T17:30:30.501200800Z"
    }
   },
   "id": "88d17605e659c82d"
  },
  {
   "cell_type": "markdown",
   "source": [
    "# Analogia"
   ],
   "metadata": {
    "collapsed": false
   },
   "id": "d2bc5e1bff0d7fba"
  },
  {
   "cell_type": "code",
   "execution_count": 57,
   "outputs": [
    {
     "name": "stdout",
     "output_type": "stream",
     "text": [
      "------------Camara Secreta------------\n",
      "ai\n",
      "\n",
      "------------Pedra Filosofal------------\n",
      "gigantescas\n"
     ]
    }
   ],
   "source": [
    "print(\"------------Camara Secreta------------\")\n",
    "print(analogy('cobra', 'riddle', 'lorde', model_CamSecreta))\n",
    "\n",
    "print(\"\\n------------Pedra Filosofal------------\")\n",
    "print(analogy('varinha', 'aula', 'mcgonagall', model_PFilosofal))"
   ],
   "metadata": {
    "collapsed": false,
    "ExecuteTime": {
     "end_time": "2024-05-05T17:30:30.590766300Z",
     "start_time": "2024-05-05T17:30:30.516845800Z"
    }
   },
   "id": "e5032992d3ee8e94"
  },
  {
   "cell_type": "code",
   "execution_count": 57,
   "outputs": [],
   "source": [],
   "metadata": {
    "collapsed": false,
    "ExecuteTime": {
     "end_time": "2024-05-05T17:30:30.591753Z",
     "start_time": "2024-05-05T17:30:30.533298Z"
    }
   },
   "id": "63fa3eb074d3abb8"
  }
 ],
 "metadata": {
  "kernelspec": {
   "display_name": "Python 3",
   "language": "python",
   "name": "python3"
  },
  "language_info": {
   "codemirror_mode": {
    "name": "ipython",
    "version": 2
   },
   "file_extension": ".py",
   "mimetype": "text/x-python",
   "name": "python",
   "nbconvert_exporter": "python",
   "pygments_lexer": "ipython2",
   "version": "2.7.6"
  }
 },
 "nbformat": 4,
 "nbformat_minor": 5
}
